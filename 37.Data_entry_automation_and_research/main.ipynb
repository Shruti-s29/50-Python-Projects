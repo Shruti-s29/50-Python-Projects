{
 "cells": [
  {
   "cell_type": "code",
   "execution_count": 18,
   "metadata": {},
   "outputs": [
    {
     "name": "stdout",
     "output_type": "stream",
     "text": [
      "['2,750', '2,841', '2,810', '2,608', '2,944', '2,923', '2,699', '2,650', '2,900']\n"
     ]
    }
   ],
   "source": [
    "# importing libraries\n",
    "import requests\n",
    "from bs4 import BeautifulSoup\n",
    "from selenium import webdriver\n",
    "from selenium.webdriver.common.keys import Keys\n",
    "from selenium.webdriver.common.by import By\n",
    "import time\n",
    "\n",
    "forms_link = 'https://forms.gle/yA4oEnDSitLFQmT26'\n",
    "chrome_driver = 'C:\\Chrome_driver\\chromedriver.exe'\n",
    "zillow_link = \"https://www.zillow.com/homes/San-Francisco,-CA_rb/?searchQueryState=%7B%22pagination%22%3A%7B%7D%2C%22usersSearchTerm%22%3A%22San%20Francisco%2C%20CA%22%2C%22mapBounds%22%3A%7B%22west%22%3A-122.55177535009766%2C%22east%22%3A-122.31488264990234%2C%22south%22%3A37.69926912019228%2C%22north%22%3A37.851235694487485%7D%2C%22regionSelection%22%3A%5B%7B%22regionId%22%3A20330%2C%22regionType%22%3A6%7D%5D%2C%22isMapVisible%22%3Atrue%2C%22filterState%22%3A%7B%22fr%22%3A%7B%22value%22%3Atrue%7D%2C%22fsba%22%3A%7B%22value%22%3Afalse%7D%2C%22fsbo%22%3A%7B%22value%22%3Afalse%7D%2C%22nc%22%3A%7B%22value%22%3Afalse%7D%2C%22cmsn%22%3A%7B%22value%22%3Afalse%7D%2C%22auc%22%3A%7B%22value%22%3Afalse%7D%2C%22fore%22%3A%7B%22value%22%3Afalse%7D%2C%22pmf%22%3A%7B%22value%22%3Afalse%7D%2C%22pf%22%3A%7B%22value%22%3Afalse%7D%2C%22mp%22%3A%7B%22max%22%3A3000%7D%2C%22price%22%3A%7B%22max%22%3A872627%7D%2C%22beds%22%3A%7B%22min%22%3A1%7D%7D%2C%22isListVisible%22%3Atrue%2C%22mapZoom%22%3A12%7D\"\n",
    "\n",
    "\n",
    "header ={\n",
    "    'User-Agent': 'Mozilla/5.0 (Windows NT 10.0; Win64; x64) AppleWebKit/537.36 (KHTML, like Gecko) Chrome/111.0.0.0 Safari/537.36',\n",
    "'Accept-Language':'en-US,en;q=0.9'\n",
    "}\n",
    "\n",
    "response = requests.get(url=zillow_link,headers=header)\n",
    "\n",
    "data = response.text\n",
    "# print(data)\n",
    "content = BeautifulSoup(data, \"html.parser\")\n",
    "all_link_elements = content.find_all(\"li\", {\"class\": 'ListItem-c11n-8-85-1__sc-10e22w8-0 srp__sc-wtsrtn-0 jhnswL with_constellation'})\n",
    "# print(len(all_link_elements))\n",
    "all_links = []\n",
    "all_address_elements = []\n",
    "all_prices = []\n",
    "for link in all_link_elements:\n",
    "    # print(link)\n",
    "    #\n",
    "    obj = link.findChild('a')\n",
    "    if obj!= None:\n",
    "        # print(obj['href'])\n",
    "\n",
    "        href = obj['href']\n",
    "        # print(href)\n",
    "        if \"http\" not in href:\n",
    "            all_links.append(f\"https://www.zillow.com{href}\")\n",
    "        else:\n",
    "            all_links.append(href)\n",
    "    #------------address-----------\n",
    "    add = link.find('address')\n",
    "    if add!= None:\n",
    "        all_address_elements.append(add)\n",
    "    #--------------prices------------\n",
    "    price_elem = link.find('span',{'data-test':\"property-card-price\"})\n",
    "    if price_elem!= None:\n",
    "        s = price_elem.text\n",
    "        item = s.split()\n",
    "        price = item[0][1:6]\n",
    "        all_prices.append(price)\n",
    "\n",
    "# print(all_address_elements)\n",
    "# print(all_links)\n",
    "print(all_prices)\n",
    "all_addresses = [address.get_text().split(\" | \")[-1] for address in all_address_elements]"
   ]
  },
  {
   "cell_type": "code",
   "execution_count": 19,
   "metadata": {},
   "outputs": [
    {
     "name": "stderr",
     "output_type": "stream",
     "text": [
      "C:\\Users\\shrut\\AppData\\Local\\Temp/ipykernel_37496/4224656207.py:2: DeprecationWarning: executable_path has been deprecated, please pass in a Service object\n",
      "  driver = webdriver.Chrome(executable_path=\"C:\\Chrome_driver\\chromedriver.exe\")\n"
     ]
    }
   ],
   "source": [
    "\n",
    "#Create Spreadsheet using Google Form\n",
    "driver = webdriver.Chrome(executable_path=\"C:\\Chrome_driver\\chromedriver.exe\")\n",
    "\n",
    "for n in range(len(all_links)):\n",
    "    # Google Form URL here \n",
    "    driver.get(url = forms_link)\n",
    "\n",
    "    time.sleep(2)\n",
    "    address = driver.find_element(By.XPATH,'//*[@id=\"mG61Hd\"]/div[2]/div/div[2]/div[1]/div/div/div[2]/div/div[1]/div/div[1]/input')\n",
    "    price = driver.find_element(By.XPATH,'//*[@id=\"mG61Hd\"]/div[2]/div/div[2]/div[2]/div/div/div[2]/div/div[1]/div/div[1]/input')\n",
    "    link = driver.find_element(By.XPATH,'//*[@id=\"mG61Hd\"]/div[2]/div/div[2]/div[3]/div/div/div[2]/div/div[1]/div/div[1]/input')\n",
    "    submit_button = driver.find_element(By.XPATH,'//*[@id=\"mG61Hd\"]/div[2]/div/div[3]/div[1]/div/div')\n",
    "\n",
    "    address.send_keys(all_addresses[n])\n",
    "    price.send_keys(all_prices[n])\n",
    "    link.send_keys(all_links[n])\n",
    "    submit_button.click()"
   ]
  },
  {
   "cell_type": "code",
   "execution_count": 20,
   "metadata": {},
   "outputs": [],
   "source": [
    "driver.quit()"
   ]
  }
 ],
 "metadata": {
  "kernelspec": {
   "display_name": "Python 3",
   "language": "python",
   "name": "python3"
  },
  "language_info": {
   "codemirror_mode": {
    "name": "ipython",
    "version": 3
   },
   "file_extension": ".py",
   "mimetype": "text/x-python",
   "name": "python",
   "nbconvert_exporter": "python",
   "pygments_lexer": "ipython3",
   "version": "3.10.0"
  },
  "orig_nbformat": 4
 },
 "nbformat": 4,
 "nbformat_minor": 2
}
